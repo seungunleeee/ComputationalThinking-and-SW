{
 "cells": [
  {
   "cell_type": "code",
   "execution_count": 2,
   "id": "a74b1d9a",
   "metadata": {},
   "outputs": [
    {
     "name": "stdout",
     "output_type": "stream",
     "text": [
      "please enter an integer0\n",
      "zero\n"
     ]
    }
   ],
   "source": [
    "x=int(input('please enter an integer'))\n",
    "\n",
    "if x<0:\n",
    "    x=0\n",
    "    print('negative changed zero')\n",
    "elif x==0:\n",
    "        print('zero')\n",
    "else:\n",
    "    print('more')"
   ]
  },
  {
   "cell_type": "code",
   "execution_count": 6,
   "id": "55b609f9",
   "metadata": {},
   "outputs": [
    {
     "name": "stdout",
     "output_type": "stream",
     "text": [
      "cat 3\n",
      " string 7\n",
      "all good 8\n"
     ]
    }
   ],
   "source": [
    "words =['cat', ' string', 'all good']\n",
    "for w in words:\n",
    "    print(w,len(w))"
   ]
  },
  {
   "cell_type": "code",
   "execution_count": 8,
   "id": "557e6ebc",
   "metadata": {},
   "outputs": [
    {
     "name": "stdout",
     "output_type": "stream",
     "text": [
      "0\n",
      "1\n",
      "1\n",
      "2\n",
      "3\n",
      "5\n",
      "8\n"
     ]
    }
   ],
   "source": [
    "a,b =0,1\n",
    "while a<10:\n",
    "    print(a)\n",
    "    a,b=b,a+b"
   ]
  },
  {
   "cell_type": "code",
   "execution_count": 11,
   "id": "58c85f48",
   "metadata": {},
   "outputs": [
    {
     "data": {
      "text/plain": [
       "[5, 6, 7, 8, 9]"
      ]
     },
     "execution_count": 11,
     "metadata": {},
     "output_type": "execute_result"
    }
   ],
   "source": [
    "list(range(5,10))\n"
   ]
  },
  {
   "cell_type": "code",
   "execution_count": 12,
   "id": "3bfcb8b4",
   "metadata": {},
   "outputs": [
    {
     "name": "stdout",
     "output_type": "stream",
     "text": [
      "0 Mary\n",
      "1 had\n",
      "2 a\n",
      "3 little\n",
      "4 lamb\n"
     ]
    }
   ],
   "source": [
    "a = ['Mary', 'had', 'a', 'little', 'lamb']\n",
    "for i in range(len(a)):\n",
    "    print(i, a[i])"
   ]
  },
  {
   "cell_type": "code",
   "execution_count": 14,
   "id": "d06091d3",
   "metadata": {},
   "outputs": [
    {
     "name": "stdout",
     "output_type": "stream",
     "text": [
      "Found an even number 2\n",
      "Foind an odd number 3\n",
      "Found an even number 4\n",
      "Foind an odd number 5\n",
      "Found an even number 6\n",
      "Foind an odd number 7\n",
      "Found an even number 8\n",
      "Foind an odd number 9\n"
     ]
    }
   ],
   "source": [
    "for num in range(2,10):\n",
    "    if num % 2 ==0:\n",
    "        print(\"Found an even number\",num)\n",
    "        continue\n",
    "    print(\"Foind an odd number\",num)"
   ]
  },
  {
   "cell_type": "code",
   "execution_count": 15,
   "id": "37b767f4",
   "metadata": {},
   "outputs": [
    {
     "name": "stdout",
     "output_type": "stream",
     "text": [
      "gamoe_socre입력1001\n",
      "당신은 고수입니다\n"
     ]
    }
   ],
   "source": [
    "game_score=int(input('gamoe_socre입력'))\n",
    "if game_score>1000:\n",
    "    print('당신은 고수입니다')\n"
   ]
  },
  {
   "cell_type": "code",
   "execution_count": 20,
   "id": "360edab8",
   "metadata": {},
   "outputs": [
    {
     "name": "stdout",
     "output_type": "stream",
     "text": [
      "a,b입력100 100\n",
      "두 값이 일치합니다\n"
     ]
    }
   ],
   "source": [
    "a,b=map(int,input('a,b입력').split())\n",
    "if a==b:\n",
    "    print('두 값이 일치합니다')"
   ]
  },
  {
   "cell_type": "code",
   "execution_count": 24,
   "id": "10ff4ff0",
   "metadata": {},
   "outputs": [
    {
     "name": "stdout",
     "output_type": "stream",
     "text": [
      "6 은 짝수입니다\n"
     ]
    }
   ],
   "source": [
    "from random import uniform\n",
    "number = int(uniform(1,101))\n",
    "if number%2==0:\n",
    "    print(number,'은 짝수입니다')"
   ]
  },
  {
   "cell_type": "code",
   "execution_count": 27,
   "id": "15814625",
   "metadata": {},
   "outputs": [
    {
     "name": "stdout",
     "output_type": "stream",
     "text": [
      "48 은(는) 자연수입니다.\n"
     ]
    }
   ],
   "source": [
    "from random import uniform\n",
    "number =int(uniform(-100,101))\n",
    "\n",
    "if number>0:\n",
    "    print(number,'은(는) 자연수입니다.')"
   ]
  },
  {
   "cell_type": "code",
   "execution_count": 28,
   "id": "3ad3d79a",
   "metadata": {},
   "outputs": [
    {
     "name": "stdout",
     "output_type": "stream",
     "text": [
      "게임점수를 입력하시오:1001\n",
      "고수입니다\n"
     ]
    }
   ],
   "source": [
    "game_score=int(input('게임점수를 입력하시오:'))\n",
    "if game_score>=1000:\n",
    "    print('고수입니다')\n",
    "else:\n",
    "    print('입문자입니다')"
   ]
  },
  {
   "cell_type": "code",
   "execution_count": 30,
   "id": "11e88940",
   "metadata": {},
   "outputs": [
    {
     "name": "stdout",
     "output_type": "stream",
     "text": [
      "a,b입력100 200\n",
      "두 값이 일치하지 않습니다\n"
     ]
    }
   ],
   "source": [
    "a,b=map(int,input('a,b입력').split())\n",
    "if a==b:\n",
    "    print('두 값이 일치합니다')\n",
    "else:\n",
    "    print('두 값이 일치하지 않습니다')"
   ]
  },
  {
   "cell_type": "code",
   "execution_count": 37,
   "id": "5a800fda",
   "metadata": {},
   "outputs": [
    {
     "name": "stdout",
     "output_type": "stream",
     "text": [
      "당신은 성인인가요 1, 미성년이면 0:1\n",
      "결혼을 하셨나요0\n",
      "당신은 결혼하지 않은 성인입니다\n"
     ]
    }
   ],
   "source": [
    "age = int(input('당신은 성인인가요 1, 미성년이면 0:'))\n",
    "a=''\n",
    "b=''\n",
    "if age==0:\n",
    "    a='미성년자입니다'\n",
    "else:\n",
    "    a='성인입니다'\n",
    "    marriage =int(input('결혼을 하셨나요'))\n",
    "    if marriage==1:\n",
    "         b='결혼한'\n",
    "    else:\n",
    "        b='결혼하지 않은'\n",
    "print('당신은',b,a)\n"
   ]
  },
  {
   "cell_type": "code",
   "execution_count": 38,
   "id": "f491e113",
   "metadata": {},
   "outputs": [
    {
     "name": "stdout",
     "output_type": "stream",
     "text": [
      "정수 입력3\n",
      "true\n"
     ]
    }
   ],
   "source": [
    "num =int(input('정수 입력'))\n",
    "if num>1 and num<10:\n",
    "    print('true')"
   ]
  },
  {
   "cell_type": "code",
   "execution_count": 39,
   "id": "0328feb6",
   "metadata": {},
   "outputs": [
    {
     "name": "stdout",
     "output_type": "stream",
     "text": [
      "정수 입력13\n",
      "청소년입니다.\n"
     ]
    }
   ],
   "source": [
    "age =int(input('정수 입력'))\n",
    "if age>10 and age<19:\n",
    "    print('청소년입니다.')"
   ]
  },
  {
   "cell_type": "code",
   "execution_count": 41,
   "id": "2c039ee8",
   "metadata": {},
   "outputs": [
    {
     "name": "stdout",
     "output_type": "stream",
     "text": [
      "자동차의 속도를 입력하세요 km/h10\n",
      "저속\n"
     ]
    }
   ],
   "source": [
    "vel = int(input('자동차의 속도를 입력하세요 km/h'))\n",
    "if vel>100:\n",
    "    print('고속')\n",
    "elif vel>=60:\n",
    "    print('중속')\n",
    "else:\n",
    "    print('저속')"
   ]
  },
  {
   "cell_type": "code",
   "execution_count": 43,
   "id": "d894baaf",
   "metadata": {},
   "outputs": [
    {
     "name": "stdout",
     "output_type": "stream",
     "text": [
      "Hello Python\n",
      "Hello Python\n",
      "Hello Python\n",
      "Hello Python\n",
      "Hello Python\n"
     ]
    }
   ],
   "source": [
    "for i in range(5):\n",
    "    print('Hello Python')"
   ]
  },
  {
   "cell_type": "code",
   "execution_count": 44,
   "id": "62eb9c5c",
   "metadata": {},
   "outputs": [
    {
     "name": "stdout",
     "output_type": "stream",
     "text": [
      "0\n",
      "1\n",
      "2\n",
      "3\n",
      "4\n"
     ]
    }
   ],
   "source": [
    "for i in range(5):\n",
    "    print(i)"
   ]
  },
  {
   "cell_type": "code",
   "execution_count": 49,
   "id": "2a22ae40",
   "metadata": {},
   "outputs": [
    {
     "data": {
      "text/plain": [
       "[-100,\n",
       " -99,\n",
       " -98,\n",
       " -97,\n",
       " -96,\n",
       " -95,\n",
       " -94,\n",
       " -93,\n",
       " -92,\n",
       " -91,\n",
       " -90,\n",
       " -89,\n",
       " -88,\n",
       " -87,\n",
       " -86,\n",
       " -85,\n",
       " -84,\n",
       " -83,\n",
       " -82,\n",
       " -81,\n",
       " -80,\n",
       " -79,\n",
       " -78,\n",
       " -77,\n",
       " -76,\n",
       " -75,\n",
       " -74,\n",
       " -73,\n",
       " -72,\n",
       " -71,\n",
       " -70,\n",
       " -69,\n",
       " -68,\n",
       " -67,\n",
       " -66,\n",
       " -65,\n",
       " -64,\n",
       " -63,\n",
       " -62,\n",
       " -61,\n",
       " -60,\n",
       " -59,\n",
       " -58,\n",
       " -57,\n",
       " -56,\n",
       " -55,\n",
       " -54,\n",
       " -53,\n",
       " -52,\n",
       " -51,\n",
       " -50,\n",
       " -49,\n",
       " -48,\n",
       " -47,\n",
       " -46,\n",
       " -45,\n",
       " -44,\n",
       " -43,\n",
       " -42,\n",
       " -41,\n",
       " -40,\n",
       " -39,\n",
       " -38,\n",
       " -37,\n",
       " -36,\n",
       " -35,\n",
       " -34,\n",
       " -33,\n",
       " -32,\n",
       " -31,\n",
       " -30,\n",
       " -29,\n",
       " -28,\n",
       " -27,\n",
       " -26,\n",
       " -25,\n",
       " -24,\n",
       " -23,\n",
       " -22,\n",
       " -21,\n",
       " -20,\n",
       " -19,\n",
       " -18,\n",
       " -17,\n",
       " -16,\n",
       " -15,\n",
       " -14,\n",
       " -13,\n",
       " -12,\n",
       " -11,\n",
       " -10,\n",
       " -9,\n",
       " -8,\n",
       " -7,\n",
       " -6,\n",
       " -5,\n",
       " -4,\n",
       " -3,\n",
       " -2,\n",
       " -1]"
      ]
     },
     "execution_count": 49,
     "metadata": {},
     "output_type": "execute_result"
    }
   ],
   "source": [
    "list(range(2,101,2))\n",
    "list(range(1,101,2))\n",
    "list(range(-100,0))"
   ]
  },
  {
   "cell_type": "code",
   "execution_count": 50,
   "id": "deeee9b3",
   "metadata": {},
   "outputs": [
    {
     "name": "stdout",
     "output_type": "stream",
     "text": [
      "5050\n"
     ]
    }
   ],
   "source": [
    "sum=0\n",
    "for i in range(1,101):\n",
    "   sum+=i\n",
    "print(sum)"
   ]
  },
  {
   "cell_type": "code",
   "execution_count": 53,
   "id": "defe30e0",
   "metadata": {},
   "outputs": [
    {
     "name": "stdout",
     "output_type": "stream",
     "text": [
      "2550\n"
     ]
    }
   ],
   "source": [
    "sum=0\n",
    "for i in range(0,101,2):\n",
    "    sum+=i\n",
    "print(sum)"
   ]
  },
  {
   "cell_type": "code",
   "execution_count": 54,
   "id": "53d79da2",
   "metadata": {},
   "outputs": [
    {
     "name": "stdout",
     "output_type": "stream",
     "text": [
      "2500\n"
     ]
    }
   ],
   "source": [
    "sum=0\n",
    "for i in range(1,101,2):\n",
    "    sum+=i\n",
    "print(sum)"
   ]
  },
  {
   "cell_type": "code",
   "execution_count": 58,
   "id": "86688ad5",
   "metadata": {},
   "outputs": [
    {
     "name": "stdout",
     "output_type": "stream",
     "text": [
      "       #\n",
      "      #\n",
      "     #\n",
      "    #\n",
      "   #\n",
      "  #\n",
      " #\n"
     ]
    }
   ],
   "source": [
    "for i in range(6,-1,-1):\n",
    "    print(' '*i,'#')"
   ]
  },
  {
   "cell_type": "code",
   "execution_count": 61,
   "id": "027126a3",
   "metadata": {},
   "outputs": [
    {
     "name": "stdout",
     "output_type": "stream",
     "text": [
      "세 정수를 입력하시오4 8 7\n",
      "4 7 8\n"
     ]
    }
   ],
   "source": [
    "a,b,c =map(int , input('세 정수를 입력하시오').split())\n",
    "if a>b and a>c:\n",
    "    if b>c:\n",
    "        print(c,b,a)\n",
    "    else:\n",
    "        print(b,c,a)\n",
    "elif b>a and b>c:\n",
    "    if a>c:\n",
    "        print(c,a,b)\n",
    "    else:\n",
    "        print(a,c,b)\n",
    "else :\n",
    "    if a>b:\n",
    "        print(b,a,c)\n",
    "    else:\n",
    "        print(a,b,c)"
   ]
  },
  {
   "cell_type": "code",
   "execution_count": 63,
   "id": "db987a50",
   "metadata": {},
   "outputs": [
    {
     "name": "stdout",
     "output_type": "stream",
     "text": [
      "점의좌표 x,y를 입력하시오-1 -3\n",
      "3사분면에 있음\n"
     ]
    }
   ],
   "source": [
    "x,y=map(int, input('점의좌표 x,y를 입력하시오').split())\n",
    "if x>0 and y>0:\n",
    "    print('1사분면에 있음')\n",
    "elif x<0 and y>0:\n",
    "    print('2사분면에 있음')\n",
    "elif x<0 and y<0:\n",
    "    print('3사분면에 있음')\n",
    "elif x>0 and y<0:\n",
    "    print('1사분면에 있음')\n",
    "else :\n",
    "    print('0에 있음')"
   ]
  },
  {
   "cell_type": "code",
   "execution_count": 64,
   "id": "2201b82b",
   "metadata": {},
   "outputs": [
    {
     "name": "stdout",
     "output_type": "stream",
     "text": [
      "게임점수를 입력하시오:1000\n",
      "고수입니다\n"
     ]
    }
   ],
   "source": [
    "game_score=int(input('게임점수를 입력하시오:'))\n",
    "if game_score>=1000:\n",
    "    print('고수입니다')\n",
    "else:\n",
    "    print('입문자입니다')"
   ]
  },
  {
   "cell_type": "code",
   "execution_count": 65,
   "id": "2942d14e",
   "metadata": {},
   "outputs": [
    {
     "name": "stdout",
     "output_type": "stream",
     "text": [
      "Python \n",
      "is \n",
      "FUN! \n",
      "Python \n",
      "is \n",
      "FUN! \n",
      "Python \n",
      "is \n",
      "FUN! \n"
     ]
    }
   ],
   "source": [
    "for i in range(3):\n",
    "    print('Python ')\n",
    "    print('is ')\n",
    "    print('FUN! ')"
   ]
  },
  {
   "cell_type": "code",
   "execution_count": 66,
   "id": "2b806a7f",
   "metadata": {},
   "outputs": [
    {
     "name": "stdout",
     "output_type": "stream",
     "text": [
      "Python \n",
      "is \n",
      "Python \n",
      "is \n",
      "Python \n",
      "is \n",
      "FUN! \n"
     ]
    }
   ],
   "source": [
    "for i in range(3):\n",
    "    print('Python ')\n",
    "    print('is ')\n",
    "print('FUN! ')"
   ]
  },
  {
   "cell_type": "code",
   "execution_count": 70,
   "id": "5898e3fa",
   "metadata": {},
   "outputs": [
    {
     "name": "stdout",
     "output_type": "stream",
     "text": [
      "숫자를 입력하세요100\n",
      "100 은 소수가 아닙니다\n"
     ]
    }
   ],
   "source": [
    "num = int(input('숫자를 입력하세요'))\n",
    "check=0\n",
    "for i in range(2,num):\n",
    "    if num%i==0:\n",
    "        check=1\n",
    "        break\n",
    "if check==1:\n",
    "    print(num,\"은 소수가 아닙니다\")\n",
    "else :\n",
    "    print(num,\"은 소수 입니다\")"
   ]
  },
  {
   "cell_type": "code",
   "execution_count": 93,
   "id": "244bb6b5",
   "metadata": {},
   "outputs": [
    {
     "name": "stdout",
     "output_type": "stream",
     "text": [
      "153\n",
      "370\n",
      "371\n",
      "407\n"
     ]
    }
   ],
   "source": [
    "import math\n",
    "for i in range(100,1000):\n",
    "    a=int(math.pow(int(i/100),3))\n",
    "    b= int(math.pow((int(i/10)%10),3))\n",
    "    c=int(math.pow((i%10),3))\n",
    "    if a+b+c==i:\n",
    "        print(i)"
   ]
  },
  {
   "cell_type": "code",
   "execution_count": 97,
   "id": "64546a59",
   "metadata": {},
   "outputs": [
    {
     "name": "stdout",
     "output_type": "stream",
     "text": [
      "1에서 9까지의 수를 입력하세요:100\n",
      "1에서 9까지의 수를 다시 입력하세요:100\n",
      "1에서 9까지의 수를 다시 입력하세요:9\n",
      "9 * 1 = 9\n",
      "9 * 2 = 18\n",
      "9 * 3 = 27\n",
      "9 * 4 = 36\n",
      "9 * 5 = 45\n",
      "9 * 6 = 54\n",
      "9 * 7 = 63\n",
      "9 * 8 = 72\n",
      "9 * 9 = 81\n"
     ]
    }
   ],
   "source": [
    "num = int(input('1에서 9까지의 수를 입력하세요:'))\n",
    "name=1\n",
    "while name==1:\n",
    "    if num>=1and num<=9:\n",
    "        for i in range(1,10):\n",
    "            print(num,'*',i,'=',num*i)\n",
    "        break\n",
    "    else:\n",
    "        num = int(input('1에서 9까지의 수를 다시 입력하세요:'))"
   ]
  },
  {
   "cell_type": "code",
   "execution_count": 107,
   "id": "5d2fba08",
   "metadata": {},
   "outputs": [
    {
     "name": "stdout",
     "output_type": "stream",
     "text": [
      "맛나 식당에 오신 것을 환영합니다. 메뉴는 다음과 같습니다.\n",
      "-삼겹구이 (입력 s)\n",
      "-오삼불고기 (입력 o)\n",
      "-된장찌개 (입력 d)\n",
      "메뉴를 선택하세요(알파벳 s,o,d 입력) : c\n",
      "메뉴를 선택하세요(알파벳 s,o,d 입력) : d\n",
      "된장찌개를 선택하셨습니다\n"
     ]
    }
   ],
   "source": [
    "print('맛나 식당에 오신 것을 환영합니다. 메뉴는 다음과 같습니다.')\n",
    "print('-삼겹구이 (입력 s)')\n",
    "print('-오삼불고기 (입력 o)')\n",
    "print('-된장찌개 (입력 d)')\n",
    "\n",
    "menu = input('메뉴를 선택하세요(알파벳 s,o,d 입력) : ')\n",
    "done=0\n",
    "while done==0:\n",
    "\n",
    "    if menu=='s':\n",
    "        print('삼겹구이를 선택하셨습니다')\n",
    "        done=1\n",
    "        break\n",
    "    elif menu=='o':\n",
    "        print('오삼불고기를 선택하셨습니다')\n",
    "        done=1\n",
    "        break\n",
    "    elif   menu=='d':\n",
    "        print('된장찌개를 선택하셨습니다')\n",
    "        done=1\n",
    "        break\n",
    "    else:\n",
    "        menu = input('메뉴를 선택하세요(알파벳 s,o,d 입력) : ')\n",
    " \n"
   ]
  },
  {
   "cell_type": "code",
   "execution_count": 105,
   "id": "b662b29c",
   "metadata": {},
   "outputs": [
    {
     "name": "stdout",
     "output_type": "stream",
     "text": [
      "숫자를 입력하세요10\n",
      "           *\n",
      "          **\n",
      "         ***\n",
      "        ****\n",
      "       *****\n",
      "      ******\n",
      "     *******\n",
      "    ********\n",
      "   *********\n",
      "  **********\n",
      " ***********\n"
     ]
    }
   ],
   "source": [
    "num =int(input('숫자를 입력하세요'))\n",
    "for i in range (num,-1,-1):\n",
    "    print(' '*i,'*'*(num-i+1))"
   ]
  },
  {
   "cell_type": "code",
   "execution_count": 113,
   "id": "b4ec9471",
   "metadata": {},
   "outputs": [
    {
     "name": "stdout",
     "output_type": "stream",
     "text": [
      "n을 입력하세요10\n",
      "1  2  3  4  5  6  7  8  9  10  \n",
      "11  12  13  14  15  16  17  18  19  20  \n",
      "21  22  23  24  25  26  27  28  29  30  \n",
      "31  32  33  34  35  36  37  38  39  40  \n",
      "41  42  43  44  45  46  47  48  49  50  \n",
      "51  52  53  54  55  56  57  58  59  60  \n",
      "61  62  63  64  65  66  67  68  69  70  \n",
      "71  72  73  74  75  76  77  78  79  80  \n",
      "81  82  83  84  85  86  87  88  89  90  \n",
      "91  92  93  94  95  96  97  98  99  100  \n"
     ]
    }
   ],
   "source": [
    "n = int(input('n을 입력하세요'))\n",
    "before=1\n",
    "\n",
    "for i in range(n, n*n+1,n):\n",
    "        \n",
    "        if i%2==1:\n",
    "            for a in range(before,i+1):\n",
    "                print(a,' ',end='')\n",
    "            before=i+1\n",
    "            print()\n",
    "        else:\n",
    "            for a in range(before,i+1):\n",
    "                   print(a,' ',end='')\n",
    "            before=i+1\n",
    "            print()\n",
    "            "
   ]
  },
  {
   "cell_type": "code",
   "execution_count": null,
   "id": "b287cdbf",
   "metadata": {},
   "outputs": [],
   "source": []
  }
 ],
 "metadata": {
  "kernelspec": {
   "display_name": "Python 3 (ipykernel)",
   "language": "python",
   "name": "python3"
  },
  "language_info": {
   "codemirror_mode": {
    "name": "ipython",
    "version": 3
   },
   "file_extension": ".py",
   "mimetype": "text/x-python",
   "name": "python",
   "nbconvert_exporter": "python",
   "pygments_lexer": "ipython3",
   "version": "3.9.12"
  }
 },
 "nbformat": 4,
 "nbformat_minor": 5
}
